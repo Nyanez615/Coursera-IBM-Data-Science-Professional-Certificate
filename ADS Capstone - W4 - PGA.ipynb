{
    "cells": [
        {
            "cell_type": "markdown",
            "metadata": {
                "collapsed": true
            },
            "source": "<h1 style = \"text-align: center;\">Applied Data Science Capstone</h1>\n<h2 style = \"text-align: right;\">Nicolas Yanez, M.D., M.Sc</h2>"
        },
        {
            "cell_type": "markdown",
            "metadata": {},
            "source": "This Jupyter Notebook was written for the Week 4 *Peer-Graded Evaluation (PGA)* in the **Applied Data Science Capstone** Coursera course as part of the **IBM Data Science Professional Certification**."
        },
        {
            "cell_type": "markdown",
            "metadata": {},
            "source": "<div style = \"background-color:lightblue\">\n    <ol>\n        <li>PGA Instructions</li>\n        <li>Review criteria</li>\n        <li>Submission instructions</li>\n        <li>Submission</li>\n            <ol >\n                <li>Introduction/Business Problem</li>\n                <li>Data</li>\n            </ol>\n    </ol>\n</div>"
        },
        {
            "cell_type": "markdown",
            "metadata": {},
            "source": "<h3>1. PGA Instructions</h3>"
        },
        {
            "cell_type": "markdown",
            "metadata": {},
            "source": "Now that you have been equipped with the skills and the tools to use location data to explore a geographical location, over the course of two weeks, you will have the opportunity to be as creative as you want and come up with an idea to leverage the Foursquare location data to explore or compare neighborhoods or cities of your choice or to come up with a problem that you can use the Foursquare location data to solve. If you cannot think of an idea or a problem, here are some ideas to get you started:\n\n1. In Module 3, we explored New York City and the city of Toronto and segmented and clustered their neighborhoods. Both cities are very diverse and are the financial capitals of their respective countries. One interesting idea would be to compare the neighborhoods of the two cities and determine how similar or dissimilar they are. Is New York City more like Toronto or Paris or some other multicultural city? I will leave it to you to refine this idea.\n2. In a city of your choice, if someone is looking to open a restaurant, where would you recommend that they open it? Similarly, if a contractor is trying to start their own business, where would you recommend that they setup their office?\n\nThese are just a couple of many ideas and problems that can be solved using location data in addition to other datasets. No matter what you decide to do, make sure to provide sufficient justification of why you think what you want to do or solve is important and why would a client or a group of people be interested in your project."
        },
        {
            "cell_type": "markdown",
            "metadata": {},
            "source": "<h3>2. Review Criteria</h3>"
        },
        {
            "cell_type": "markdown",
            "metadata": {},
            "source": "This capstone project will be graded by your peers. This capstone project is worth **70%** of your total grade. The project will be completed over the course of **2 weeks**. Week 1 (Course Week 4) submissions will be worth **30%** whereas week 2 (Course Week 5) submissions will be worth **40%** of your total grade.\n\nFor this week, you will required to submit the following:\n\n1. A description of the problem and a discussion of the background. **(15 marks)**\n1. A description of the data and how it will be used to solve the problem. **(15 marks)**\n\nFor the second week, the final deliverables of the project will be:\n\n1. A link to your Notebook on your Github repository, showing your code. **(15 marks)**\n2. A full report consisting of all of the following components **(15 marks)**:  \n\n\n* Introduction where you discuss the business problem and who would be interested in this project.\n* Data where you describe the data that will be used to solve the problem and the source of the data.\n* Methodology section which represents the main component of the report where you discuss and describe any exploratory data analysis that you did, any inferential statistical testing that you performed, if any, and what machine learnings were used and why.\n* Results section where you discuss the results.\n* Discussion section where you discuss any observations you noted and any recommendations you can make based on the results.\n* Conclusion section where you conclude the report.  \n\n\n3. Your choice of a presentation or blogpost. **(10 marks)**"
        },
        {
            "cell_type": "markdown",
            "metadata": {},
            "source": "<h3>3. Submission Instructions</h3>"
        },
        {
            "cell_type": "markdown",
            "metadata": {},
            "source": "Clearly define a problem or an idea of your choice, where you would need to leverage the Foursquare location data to solve or execute. Remember that data science problems always target an audience and are meant to help a group of stakeholders solve a problem, so make sure that you explicitly describe your audience and why they would care about your problem.\n\nThis submission will eventually become your **Introduction/Business Problem** section in your final report. So I recommend that you push the report (having your Introduction/Business Problem section only for now) to your Github repository and submit a link to it."
        },
        {
            "cell_type": "markdown",
            "metadata": {},
            "source": "Describe the data that you will be using to solve the problem or execute your idea. Remember that you will need to use the Foursquare location data to solve the problem or execute your idea. You can absolutely use other datasets in combination with the Foursquare location data. So make sure that you provide adequate explanation and discussion, with examples, of the data that you will be using, even if it is only Foursquare location data.\n\nThis submission will eventually become your **Data** section in your final report. So I recommend that you push the report (having your **Data** section) to your Github repository and submit a link to it."
        },
        {
            "cell_type": "markdown",
            "metadata": {},
            "source": "<h3>4. Submission</h3>"
        },
        {
            "cell_type": "markdown",
            "metadata": {},
            "source": "<h4>1. Introduction/Business Problem</h4>"
        },
        {
            "cell_type": "markdown",
            "metadata": {},
            "source": "**Introduction**  \n\nAccess to healthcare services is essential for maintaining health and preventing diseases worldwide. Levesque et al defined access as: \"*the opportunity to identify healthcare needs, to seek healthcare services, to reach, to obtain or use health care services, and to actually have a need for services fulfilled*\".**(1)** The authors conceptualized five dimensions for access (1. Approachability; 2. Acceptability; 3. Availability and accommodation; 4. Affordability; and 5. Appropriateness) with five corresponding corollary dimensions of abilities (1. Ability to perceive; 2. Ability to seek; 3. Ability to reach; 4. Ability to pay; and 5. Ability to engage). The third dimension relates to the fact that health services can be reached both physically and in a timely manner and, specifically, to aspects such as the physical existence of health resources, the capacity to render services, and the characteristics of facilities and urban contexts, as well as the characteristics of providers and the modes of provision of services. Consequently, access can be restricted by any number of circumstances that affect service distribution be it geographically or across levels of care, as well as due to issues pertaining to personal mobility and availability of transportation, occupational flexibility, and knowledge about health services. \n\n**City Context**  \n\nTo contextualize about the city and its national socio-politic relevance, the following excerpt was extracted from Wikipedia and subsequently abridged: \"Bogot\u00e1, D.C. (...) is the political, economic, administrative and industrial center of the country (...) Subdivided into 20 localities, Bogot\u00e1 has an area of 1,587 square kilometres (613 square miles) and a relatively cool climate that is constant through the year (...) Bogot\u00e1 stands out for its economic strength and associated financial maturity, its attractiveness to global companies and the quality of human capital. It is the financial and commercial heart of Colombia, with the most business activity of any city in the country. The capital hosts the main financial market in Colombia and the Andean natural region, and is the leading destination for new foreign direct investment projects coming into Latin America and Colombia. It has the highest nominal GDP in the country, responsible for almost a quarter of the nation's total (24.7%). The city's airport, El Dorado International Airport, named after the mythical El Dorado, handles the largest cargo volume in Latin America, and is third in number of people (...) Bogot\u00e1 ranks 52nd on the Global Cities Index 2014, and is considered a global city type \"Alpha \u2212\" by GaWC.\"**(2)**\n\n**Business Problem**  \n\nPhysical existence and geographical distribution of healthcare institutions and service providers is, therefore, of the utmost importance to provide unrestricted healthcare access, especially in the context of providing care to disadvantaged and otherwise underserved populations. Data about geographical density in different orders of socio-political stratification (i.e. neighborhoods, buroughs, localities, cities, and regions, as an example) is necessary to inform policy-makers and other concerned stakeholders (i.e., mayor's office, city council, civil organizations, among others) in equitative urban planning and in designing effective long-term healthy public policies and programs. This issue will be examined in this Jupyter Notebook, using Bogot\u00e1, the Capital District of Colombia, South America, as a case scenario. **In summary, the goal of this analysis is to estimate the geographical density of heathcare institutions and service providers in Bogot\u00e1 by locality as a surrogate measure of (in)equitative healthcare access, in order to guide policy-making, urban planning, and individual- and population-centered program designing using location data leveraged from Foursquare.**"
        },
        {
            "cell_type": "markdown",
            "metadata": {},
            "source": "<h4>2. Data</h4>"
        },
        {
            "cell_type": "markdown",
            "metadata": {},
            "source": "In order to address the business problem, two types of data are required:\n\n1. Foursquare location data\n2. Locality geographic data\n\n**1. Foursquare location data**\n\n[Foursquare][1] is a location technology platform that has developed several products that range from providing location-based experiences to context-aware content. Specifically, the **Places Application Programming Interface (API)** provides real-time access to Foursquare\u2019s global venue data and user content database. To access this information, the appropriate endpoint must be selected. Regular endpoints include basic venue firmographic data, category, and ID while premium endpoints include rich content such as ratings, URLs, photos, tips, menus, etc.(3) The endpoints \"search\", \"suggestcompletion\", \"categories\", \"similar\", \"listed\", \"timeseries\", and \"details\" will probably be used for the intents and purposes of this analysis. Examples of using Foursquare's location data and using the **GET** and **POST** query methods can be viewed [here][2]\n\n**2. Locality geographic data**\n\nOfficial sources for Bogor\u00e1's locality geographic data were not found readily available online. Thus, locality geographical coordinates will be web scraped from their appropriate Wikipedia web page as decimal degree (DD) coordinates. The analysis that will be performed in this Jupyter Notebook was inspired on the Coursera Applied Data Science PGA for Week 3.\n\n**Addendum:** After formally requesting the District Department of Planning of Bogot\u00e1 for geographic data regarding its socio-political organization (i.e. localities, zonal planning units, and neighbhorhoods), I received through certified carrier: 1) a CD that contained a relational database of the aforementioned data and 2) a letter that explained the contents of the CD and the legal underpinnings of using this data. As such, two analyses will be performed: 1) using the geographical data available through web scraping (i.e., which focuses on localities) and 2) using the geographical data made available by the Bogot\u00e1's District Department of Planning (i.e., which permits finer and more detailed geographic segmentation). **For the intents and purposes of the Capstone Project of the IBM Data Science Specialization, only the first analysis should be considered.**\n\n[1]: https://foursquare.com/\n[2]: https://developer.foursquare.com/docs/api/endpoints"
        },
        {
            "cell_type": "markdown",
            "metadata": {},
            "source": "# END OF WEEK 4 PGA"
        },
        {
            "cell_type": "markdown",
            "metadata": {},
            "source": "<h4>3. Data Processing</h4>"
        },
        {
            "cell_type": "code",
            "execution_count": 3,
            "metadata": {},
            "outputs": [
                {
                    "name": "stdout",
                    "output_type": "stream",
                    "text": "Success!\n"
                }
            ],
            "source": "# Install and import needed packages\n\nimport pandas as pd\nimport unicodedata as ucd\n\n#!pip install beautifulsoup4\nfrom bs4 import BeautifulSoup\n\n#!pip install lxml\nimport lxml\n\n#!pip install html5lib\n#!pip install requests\nimport requests\n\nprint('Success!')"
        },
        {
            "cell_type": "code",
            "execution_count": 4,
            "metadata": {},
            "outputs": [
                {
                    "name": "stdout",
                    "output_type": "stream",
                    "text": "HTML was read correctly!\n"
                }
            ],
            "source": "# Read-in html source code from Wikipedia using a get request as a BeautifulSoup object\n\nsource = requests.get('https://es.wikipedia.org/wiki/Anexo:Localidades_de_Bogot\u00e1').text\nsoup = BeautifulSoup(source, 'lxml')\n\nprint('HTML was read correctly!')"
        },
        {
            "cell_type": "code",
            "execution_count": 5,
            "metadata": {},
            "outputs": [
                {
                    "name": "stdout",
                    "output_type": "stream",
                    "text": "Data preview:\n[[], ['01', 'Usaqu\u00e9n', '110111-110151', '65.31', '501\\xa0999', '7\\xa0686.4'], ['02', 'Chapinero', '110211-110231', '38.15', '139\\xa0701', '3\\xa0661.88'], ['03', 'Santa Fe', '110311-110321', '45.17', '110\\xa0048', '2\\xa0436.3'], ['04', 'San Crist\u00f3bal', '110411-110441', '49.09', '404\\xa0697', '8\\xa0243.98']]\n"
                }
            ],
            "source": "# Recreate the locality table as a list of values\n\ndata = []\ntable = soup.find('table', attrs = {'class': 'sortable wikitable'})\ntable_body = table.find('tbody')\n\nrows = table_body.find_all('tr')\nfor row in rows:\n    cols = row.find_all('td')\n    cols = [ele.text.strip() for ele in cols]\n    data.append([ele for ele in cols if ele]) # Get rid of empty values\n\nprint('Data preview:')\nprint(data[0:5])"
        },
        {
            "cell_type": "code",
            "execution_count": 6,
            "metadata": {},
            "outputs": [
                {
                    "name": "stdout",
                    "output_type": "stream",
                    "text": "Data preview:\n        locality       postcode  surface (km^2)  population  \\\n0        Usaqu\u00e9n  110111-110151           65.31      501999   \n1      Chapinero  110211-110231           38.15      139701   \n2       Santa Fe  110311-110321           45.17      110048   \n3  San Crist\u00f3bal  110411-110441           49.09      404697   \n4           Usme  110511-110571          215.06      457302   \n\n   density (hab/km^2)  \n0             7686.40  \n1             3661.88  \n2             2436.30  \n3             8243.98  \n4             2126.39  \n\nlocality               object\npostcode               object\nsurface (km^2)        float64\npopulation              int64\ndensity (hab/km^2)    float64\ndtype: object\n"
                }
            ],
            "source": "# Create a pandas dataframe based on the previously generated list, assigning column names, and cleaning up\ndf = pd.DataFrame(data)\ndf.columns = ['numero', 'locality', 'postcode', 'surface (km^2)', 'population', 'density (hab/km^2)']\ndf = df.iloc[1:,]\ndf.drop(\"numero\", axis = 1, inplace = True)\ndf = df.reset_index(drop = True)\n\ndf.population = df.population.str.normalize('NFKD')\ndf.population = df.population.str.replace(' ', '')\n\ndf['density (hab/km^2)'] = df['density (hab/km^2)'].str.normalize('NFKD')\ndf['density (hab/km^2)'] = df['density (hab/km^2)'].str.replace(' ', '')\n\ndf = df.astype({'surface (km^2)': 'float64',\n                'population': 'int64',\n                'density (hab/km^2)': 'float64'})\nprint('Data preview:')\nprint(df.head())\nprint()\nprint(df.dtypes)"
        },
        {
            "cell_type": "code",
            "execution_count": 7,
            "metadata": {},
            "outputs": [],
            "source": "# Get geographic coordinates for each locality using BeautifulSoup\nurl_list = ['https://tools.wmflabs.org/geohack/geohack.php?language=en&pagename=Usaqu%C3%A9n&params=4_43_11_N_74_2_12_W_region:_scale:100000_type:city',\n            'https://tools.wmflabs.org/geohack/geohack.php?language=en&pagename=Chapinero&params=4_38_45_N_74_3_48_W_region:_scale:100000_type:city',\n            'https://tools.wmflabs.org/geohack/geohack.php?language=en&pagename=Santa_Fe_(Bogot\u00e1)&params=4_36_50_N_74_4_43_W_region:_scale:100000_type:city',\n            'https://tools.wmflabs.org/geohack/geohack.php?language=en&pagename=San_Crist\u00f3bal_(Bogot\u00e1)&params=4_33_53_N_74_5_0_W_region:_scale:100000_type:city',\n            'https://tools.wmflabs.org/geohack/geohack.php?language=en&pagename=Usme&params=4_26_47_N_74_9_8_W_region:_scale:100000_type:city',\n            'https://tools.wmflabs.org/geohack/geohack.php?language=en&pagename=Tunjuelito&params=4_34_56_N_74_7_55_W_region:_scale:100000_type:city',\n            'https://tools.wmflabs.org/geohack/geohack.php?language=en&pagename=Bosa_(Bogot\u00e1)&params=4_37_1_N_74_11_24_W_region:_scale:100000_type:city',\n            'https://tools.wmflabs.org/geohack/geohack.php?language=en&pagename=Kennedy_(Bogot\u00e1)&params=4_38_37_N_74_9_12_W_region:_scale:100000_type:city',\n            'https://tools.wmflabs.org/geohack/geohack.php?language=en&pagename=Fontib\u00f3n&params=4_40_43_N_74_8_28_W_region:_scale:100000_type:city',\n            'https://tools.wmflabs.org/geohack/geohack.php?language=en&pagename=Engativ\u00e1&params=4_43_34_N_74_6_0_W_region:_scale:100000_type:city',\n            'https://tools.wmflabs.org/geohack/geohack.php?language=en&pagename=Suba&params=4_44_27.6_N_74_5_2.4_W_region:_scale:100000_type:city',\n            'https://tools.wmflabs.org/geohack/geohack.php?language=en&pagename=Barrios_Unidos_(Bogot\u00e1)&params=4_40_43_N_74_4_43_W_region:_scale:100000_type:city',\n            'https://tools.wmflabs.org/geohack/geohack.php?language=es&pagename=Teusaquillo&params=4.6705555555556_N_-74.093055555556_E_type:city',\n            'https://tools.wmflabs.org/geohack/geohack.php?language=en&pagename=Los_M\u00e1rtires&params=4_36_16_N_74_5_24_W_region:_scale:100000_type:city',\n            'https://tools.wmflabs.org/geohack/geohack.php?language=en&pagename=Antonio_Nari\u00f1o_(Bogot\u00e1)&params=4_35_29.96_N_74_6_23.42_W_region:_scale:100000_type:city',\n            'https://tools.wmflabs.org/geohack/geohack.php?language=en&pagename=Puente_Aranda&params=4_36_45_N_74_6_24_W_region:_scale:100000_type:city',\n            'https://tools.wmflabs.org/geohack/geohack.php?language=en&pagename=La_Candelaria&params=4_35_30.2_N_74_4_26.87_W_region:_scale:100000_type:city',\n            'https://tools.wmflabs.org/geohack/geohack.php?language=en&pagename=Rafael_Uribe_Uribe_(Bogot\u00e1)&params=4_34_47_N_74_7_3_W_region:_scale:100000_type:city',\n            'https://tools.wmflabs.org/geohack/geohack.php?language=en&pagename=Ciudad_Bol%C3%ADvar_(Bogot\u00e1)&params=4_32_10_N_74_8_20_W_region:_scale:100000_type:city',\n            'https://tools.wmflabs.org/geohack/geohack.php?language=en&pagename=Sumapaz_(Bogot\u00e1)&params=4_15_36_N_74_10_42_W_region:_scale:100000_type:city']\n\nlatitude = []\nlongitude = []\n\nfor url in url_list:\n    source = requests.get(url).text\n    soup = BeautifulSoup(source, 'lxml')\n\n    lat = soup.find('span', attrs = {'class': 'latitude'})\n    lat_text = lat.get_text()\n    latitude.append(lat_text)\n\n    lon = soup.find('span', attrs = {'class': 'longitude'})\n    lon_text = lon.get_text()\n    longitude.append(lon_text)"
        },
        {
            "cell_type": "code",
            "execution_count": 8,
            "metadata": {},
            "outputs": [
                {
                    "name": "stdout",
                    "output_type": "stream",
                    "text": "Latitudes:\n['4.719722', '4.645833', '4.613889', '4.564722', '4.446389', '4.582222', '4.616944', '4.643611', '4.678611', '4.726111', '4.741', '4.678611', '4.670556', '4.604444', '4.591656', '4.6125', '4.591722', '4.579722', '4.536111', '4.26']\n\nLongitudes:\n['-74.036667', '-74.063333', '-74.078611', '-74.083333', '-74.152222', '-74.131944', '-74.19', '-74.153333', '-74.141111', '-74.1', '-74.084', '-74.078611', '-74.093056', '-74.09', '-74.106506', '-74.106667', '-74.074131', '-74.1175', '-74.138889', '-74.178333']\n"
                }
            ],
            "source": "# Append the latitude and longitude columns to the locality data frame\ndf['latitude'] = latitude\ndf['longitude'] = longitude\n\nprint('Latitudes:')\nprint(latitude)\nprint()\nprint('Longitudes:')\nprint(longitude)"
        },
        {
            "cell_type": "code",
            "execution_count": 9,
            "metadata": {},
            "outputs": [
                {
                    "name": "stdout",
                    "output_type": "stream",
                    "text": "Bogota DC Localities data frame:\n        locality       postcode  surface (km^2)  population  \\\n0        Usaqu\u00e9n  110111-110151           65.31      501999   \n1      Chapinero  110211-110231           38.15      139701   \n2       Santa Fe  110311-110321           45.17      110048   \n3  San Crist\u00f3bal  110411-110441           49.09      404697   \n4           Usme  110511-110571          215.06      457302   \n\n   density (hab/km^2)  latitude  longitude  \n0             7686.40  4.719722   4.719722  \n1             3661.88  4.645833   4.645833  \n2             2436.30  4.613889   4.613889  \n3             8243.98  4.564722   4.564722  \n4             2126.39  4.446389   4.446389  \n\nlocality               object\npostcode               object\nsurface (km^2)        float64\npopulation              int64\ndensity (hab/km^2)    float64\nlatitude              float64\nlongitude             float64\ndtype: object\n"
                }
            ],
            "source": "# Change column types to appropriate data types\ndf['surface (km^2)'] = pd.to_numeric(df['surface (km^2)'])\ndf['population'] = pd.to_numeric(df['population'])\ndf['density (hab/km^2)'] = pd.to_numeric(df['density (hab/km^2)'])\ndf['latitude'] = pd.to_numeric(df['latitude'])\ndf['longitude'] = pd.to_numeric(df['latitude'])\n\ndf = df.astype({'latitude': 'float64',\n                'longitude': 'float64'})\n\nprint('Bogota DC Localities data frame:')\nprint(df.head())\nprint()\nprint(df.dtypes)"
        },
        {
            "cell_type": "code",
            "execution_count": null,
            "metadata": {},
            "outputs": [],
            "source": ""
        },
        {
            "cell_type": "markdown",
            "metadata": {},
            "source": "<h3>5. References</h3>\n\n1. Levesque, J. F., Harris, M. F., & Russell, G. (2013). Patient-centred access to health care: conceptualising access at the interface of health systems and populations. International journal for equity in health, 12, 18. doi:10.1186/1475-9276-12-18.\n2. Bogot\u00e1. In Wikipedia. Retrieved January 20, 2020, from https://en.wikipedia.org/wiki/Bogot%C3%A1.\n3. Endpoints. In Foursquare. Retrieved January 22, 2020, from https://developer.foursquare.com/docs/api/endpoints.\n"
        },
        {
            "cell_type": "code",
            "execution_count": null,
            "metadata": {},
            "outputs": [],
            "source": ""
        }
    ],
    "metadata": {
        "kernelspec": {
            "display_name": "Python 3.6",
            "language": "python",
            "name": "python3"
        }
    },
    "nbformat": 4,
    "nbformat_minor": 1
}