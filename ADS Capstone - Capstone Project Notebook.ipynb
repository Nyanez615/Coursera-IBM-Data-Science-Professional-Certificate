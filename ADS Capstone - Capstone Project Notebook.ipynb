{
    "cells": [
        {
            "cell_type": "markdown",
            "metadata": {
                "collapsed": true
            },
            "source": "<h1 align = center>Applied Data Science Capstone Project Notebook</h1>\n<h3 align = right>Nicolas Yanez, M.D., M.Sc."
        },
        {
            "cell_type": "markdown",
            "metadata": {},
            "source": "## Week 1 - Capstone Project Notebook\n\nCreate a new repository on your Github account and name it <b>Coursera_Capstone</b>. I have prepared a guide to walk you through the process of creating a repository and setting it up. For Mac users, click [here][1]. For Windows users, click [here][2].\n\nNow, start a Jupyter Notebook using any platform that you are comfortable with and do the following:\n\n[1]: https://medium.com/@aklson_DS/how-to-properly-setup-your-github-repository-mac-version-3a8047b899e5\n[2]: https://medium.com/@aklson_DS/how-to-properly-setup-your-github-repository-windows-version-ea596b398b"
        },
        {
            "cell_type": "markdown",
            "metadata": {},
            "source": "1. Write some markdown to explain that this notebook will be mainly used for the capstone project. **[DONE]**"
        },
        {
            "cell_type": "markdown",
            "metadata": {},
            "source": "This notebook will be used for the capstone project of the Applied Data Science Capstone course in the IBM Data Science Professional Certification."
        },
        {
            "cell_type": "markdown",
            "metadata": {},
            "source": "2. Import the <i>pandas</i> library as pd. **[DONE]**\n3. Import the <i>Numpy</i> library as np. **[DONE]**"
        },
        {
            "cell_type": "code",
            "execution_count": 1,
            "metadata": {},
            "outputs": [],
            "source": "import pandas as pd\nimport numpy as np"
        },
        {
            "cell_type": "markdown",
            "metadata": {},
            "source": "4. Print the following the statement: Hello Capstone Project Course! **[DONE]**"
        },
        {
            "cell_type": "code",
            "execution_count": 2,
            "metadata": {},
            "outputs": [
                {
                    "name": "stdout",
                    "output_type": "stream",
                    "text": "Hello Capstone Project Course!\n"
                }
            ],
            "source": "print('Hello Capstone Project Course!')"
        },
        {
            "cell_type": "markdown",
            "metadata": {},
            "source": "5. Push the Notebook to your Github repository and submit a link to the notebook on your Github repository. **[DONE]**"
        },
        {
            "cell_type": "raw",
            "metadata": {},
            "source": "https://github.com/Nyanez615/Coursera-IBM-Data-Science-Professional-Certificate/blob/master/ADS%20Capstone%20-%20Capstone%20Project%20Notebook.ipynb"
        },
        {
            "cell_type": "markdown",
            "metadata": {},
            "source": "## Week 1 PGA - END"
        },
        {
            "cell_type": "markdown",
            "metadata": {},
            "source": "## Week 2 - Segmenting and Clustering Neighborhoods in Toronto\n\nFor this assignment, you will be required to explore and cluster the neighborhoods in Toronto.\n\n1. Start by creating a new Notebook for this assignment. **[DONE]**\n2. Use the Notebook to build the code to scrape the following Wikipedia page, https://en.wikipedia.org/wiki/List_of_postal_codes_of_Canada:_M, in order to obtain the data that is in the table of postal codes and to transform the data into a *pandas* dataframe like the one shown below:\n\n![alt text][logo]\n\n3. To create the above dataframe:  \n  \n  \n* The dataframe will consist of three columns: PostalCode, Borough, and Neighborhood **[DONE]**\n* Only process the cells that have an assigned borough. Ignore cells with a borough that is **Not assigned**. **[DONE]**\n* More than one neighborhood can exist in one postal code area. For example, in the table on the Wikipedia page, you will notice that **M5A** is listed twice and has two neighborhoods: **Harbourfront** and **Regent Park**. These two rows will be combined into one row with the neighborhoods separated with a comma as shown in **row 11** in the above table. **[DONE]**\n* If a cell has a borough but a **Not assigned** neighborhood, then the neighborhood will be the same as the borough. So for the **9th** cell in the table on the Wikipedia page, the value of the Borough and the Neighborhood columns will be **Queen's Park**. **[DONE]**\n* Clean your Notebook and add Markdown cells to explain your work and any assumptions you are making. **[DONE]**\n* In the last cell of your notebook, use the .shape method to print the number of rows of your dataframe. **[DONE]**\n\n\n**Note:** There are different website scraping libraries and packages in Python. For scraping the above table, you can simply use *pandas* to read the table into a *pandas* dataframe.\n\nAnother way, which would help to learn for more complicated cases of web scraping is using the BeautifulSoup package. Here is the package's main documentation page: http://beautiful-soup-4.readthedocs.io/en/latest/\n\nThe package is so popular that there is a plethora of tutorials and examples on how to use it. Here is a very good Youtube video on how to use the BeautifulSoup package: https://www.youtube.com/watch?v=ng2o98k983k\n\nUse *pandas*, or the BeautifulSoup package, or any other way you are comfortable with to transform the data in the table on the Wikipedia page into the above pandas dataframe.\n\n[logo]: https://d3c33hcgiwev3.cloudfront.net/imageAssetProxy.v1/7JXaz3NNEeiMwApe4i-fLg_40e690ae0e927abda2d4bde7d94ed133_Screen-Shot-2018-06-18-at-7.17.57-PM.png?expiry=1577923200000&hmac=5pnBiPm5sXBYCe9OAcumreGkgKKmkttIDlQAcgxHbKk"
        },
        {
            "cell_type": "code",
            "execution_count": 3,
            "metadata": {},
            "outputs": [],
            "source": "# Install and import needed packages\n\n#!pip install beautifulsoup4\nfrom bs4 import BeautifulSoup\n\n#!pip install lxml\nimport lxml\n\n#!pip install html5lib\n#!pip install requests\nimport requests"
        },
        {
            "cell_type": "code",
            "execution_count": 4,
            "metadata": {},
            "outputs": [],
            "source": "# Read-in html source code from Wikipedia using a get request as a BeautifulSoup object\nsource = requests.get('https://en.wikipedia.org/wiki/List_of_postal_codes_of_Canada:_M').text\nsoup = BeautifulSoup(source, 'lxml')"
        },
        {
            "cell_type": "code",
            "execution_count": 5,
            "metadata": {},
            "outputs": [],
            "source": "# Recreate the postcode table as a list of values\ndata = []\ntable = soup.find('table', attrs = {'class': 'wikitable sortable'})\ntable_body = table.find('tbody')\n\nrows = table_body.find_all('tr')\nfor row in rows:\n    cols = row.find_all('td')\n    cols = [ele.text.strip() for ele in cols]\n    data.append([ele for ele in cols if ele]) # Get rid of empty values"
        },
        {
            "cell_type": "code",
            "execution_count": 6,
            "metadata": {},
            "outputs": [],
            "source": "# Create a pandas dataframe based on the previously generated list, assigning column names, removing rows with unassigned buroughs, and coalescing neighborhood values into unique rows based on postal code\ndf = pd.DataFrame(data)\ndf.columns = ['PostalCode', 'Borough', 'Neighborhood']\ndf = df[df.Borough != 'Not assigned']\n\ndf = df.groupby(['PostalCode','Borough'])['Neighborhood'].apply(', '.join).reset_index()\n\nfor index, row in df.iterrows():\n    if row['Neighborhood'] == 'Not assigned':\n        row['Neighborhood'] = row['Borough']"
        },
        {
            "cell_type": "code",
            "execution_count": 7,
            "metadata": {},
            "outputs": [
                {
                    "data": {
                        "text/plain": "(103, 3)"
                    },
                    "execution_count": 7,
                    "metadata": {},
                    "output_type": "execute_result"
                }
            ],
            "source": "# Dimensions of the final pandas dataframe\ndf.shape"
        },
        {
            "cell_type": "code",
            "execution_count": null,
            "metadata": {},
            "outputs": [],
            "source": ""
        }
    ],
    "metadata": {
        "kernelspec": {
            "display_name": "Python 3.6",
            "language": "python",
            "name": "python3"
        },
        "language_info": {
            "codemirror_mode": {
                "name": "ipython",
                "version": 3
            },
            "file_extension": ".py",
            "mimetype": "text/x-python",
            "name": "python",
            "nbconvert_exporter": "python",
            "pygments_lexer": "ipython3",
            "version": "3.6.8"
        }
    },
    "nbformat": 4,
    "nbformat_minor": 1
}